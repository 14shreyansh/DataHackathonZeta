{
 "cells": [
  {
   "cell_type": "code",
   "execution_count": null,
   "metadata": {
    "scrolled": true
   },
   "outputs": [],
   "source": [
    "import redshift_connector\n",
    "from datetime import timedelta,datetime\n",
    "import numpy as np\n",
    "import pandas as pd \n",
    "from sklearn.cluster import KMeans\n",
    "import matplotlib.pyplot as plt\n",
    "import re\n",
    "\n",
    "# Connects to Redshift cluster using AWS credentials\n",
    "username = input(\"Enter the user name :  \")\n",
    "password = input(\"Enter the password :  \")\n",
    "\n",
    "conn = redshift_connector.connect(\n",
    "    host='10.19.2.81',\n",
    "    database='zeta_reports',\n",
    "    user=username,\n",
    "    password=password,\n",
    " )\n",
    "\n",
    "cursor: redshift_connector.Cursor = conn.cursor()"
   ]
  },
  {
   "cell_type": "code",
   "execution_count": null,
   "metadata": {
    "scrolled": true
   },
   "outputs": [],
   "source": [
    "cursor.execute(\"select * from temp.user_stats_sj5\")\n",
    "rfm_table1: pd.DataFrame = cursor.fetch_dataframe()\n",
    "rfm_table1.head()"
   ]
  },
  {
   "cell_type": "code",
   "execution_count": null,
   "metadata": {
    "scrolled": true
   },
   "outputs": [],
   "source": [
    "#Finding Optimum Clusters\n",
    "sse={}\n",
    "tx_recency = rfm_table1[['recency']]\n",
    "for k in range(1, 5):\n",
    "    kmeans = KMeans(n_clusters=k, max_iter=1000).fit(tx_recency)\n",
    "    tx_recency[\"clusters\"] = kmeans.labels_\n",
    "    sse[k] = kmeans.inertia_ \n",
    "plt.figure()\n",
    "plt.plot(list(sse.keys()), list(sse.values()))\n",
    "plt.xlabel(\"Number of cluster\")\n",
    "plt.show()"
   ]
  },
  {
   "cell_type": "code",
   "execution_count": null,
   "metadata": {},
   "outputs": [],
   "source": [
    "#### Function for ordering clusters\n",
    "def order_cluster(cluster_field_name, target_field_name, df, ascending):\n",
    "    new_cluster_field_name = 'new_'+cluster_field_name\n",
    "    df_new = df.groupby(cluster_field_name)[target_field_name].mean().reset_index()\n",
    "    df_new = df_new.sort_values(by=target_field_name, ascending = ascending).reset_index(drop=True)\n",
    "    df_new['index']=df_new.index\n",
    "    df_final = pd.merge(df, df_new[[cluster_field_name, 'index']], on=cluster_field_name)\n",
    "    df_final = df_final.drop([cluster_field_name], axis=1)\n",
    "    df_final = df_final.rename(columns={\"index\":cluster_field_name})\n",
    "    return df_final"
   ]
  },
  {
   "cell_type": "code",
   "execution_count": null,
   "metadata": {},
   "outputs": [],
   "source": [
    "#Recency Clusters\n",
    "kmeans = KMeans(n_clusters=3)\n",
    "kmeans.fit(rfm_table1[['recency']])\n",
    "rfm_table1['RecencyCluster']=kmeans.predict(rfm_table1[['recency']])\n",
    "rfm_table1 = order_cluster('RecencyCluster','recency', rfm_table1, False)"
   ]
  },
  {
   "cell_type": "code",
   "execution_count": null,
   "metadata": {},
   "outputs": [],
   "source": [
    "rfm_table1.head()"
   ]
  },
  {
   "cell_type": "code",
   "execution_count": null,
   "metadata": {},
   "outputs": [],
   "source": [
    "#Frequency Clusters\n",
    "kmeans = KMeans(n_clusters=3)\n",
    "kmeans.fit(rfm_table1[['frequency']])\n",
    "rfm_table1['FrequencyCluster']=kmeans.predict(rfm_table1[['frequency']])\n",
    "rfm_table1 = order_cluster('FrequencyCluster','frequency', rfm_table1, True)\n"
   ]
  },
  {
   "cell_type": "code",
   "execution_count": null,
   "metadata": {},
   "outputs": [],
   "source": [
    "rfm_table1.head()"
   ]
  },
  {
   "cell_type": "code",
   "execution_count": null,
   "metadata": {},
   "outputs": [],
   "source": [
    "#Monetary Clusters\n",
    "kmeans = KMeans(n_clusters=3)\n",
    "kmeans.fit(rfm_table1[['monetary']])\n",
    "rfm_table1['MonetaryCluster']=kmeans.predict(rfm_table1[['monetary']])\n",
    "rfm_table1 = order_cluster('MonetaryCluster','monetary', rfm_table1, True)"
   ]
  },
  {
   "cell_type": "code",
   "execution_count": null,
   "metadata": {},
   "outputs": [],
   "source": [
    "rfm_table1.head()"
   ]
  },
  {
   "cell_type": "code",
   "execution_count": null,
   "metadata": {},
   "outputs": [],
   "source": [
    "# Define a function to map the values \n",
    "def set_value(row_number, assigned_value): \n",
    "    return assigned_value[row_number] "
   ]
  },
  {
   "cell_type": "code",
   "execution_count": null,
   "metadata": {},
   "outputs": [],
   "source": [
    "# Creating Recency Custer Tag Column\n",
    "c=rfm_table1.groupby('RecencyCluster')['recency'].agg(['min','max','mean']).reset_index()\n",
    "r1='<='+str(c.iloc[2,2]) \n",
    "r2=str(c.iloc[1,1])+' to '+str(c.iloc[1,2]) \n",
    "r3='>='+str(c.iloc[0,1])\n",
    "# Create the dictionary \n",
    "R ={0 : r1, 1 : r2, 2 : r3} \n",
    "rfm_table1['RecencyClusterTag']=rfm_table1['RecencyCluster'].apply(set_value, args =(R, )) "
   ]
  },
  {
   "cell_type": "code",
   "execution_count": null,
   "metadata": {},
   "outputs": [],
   "source": [
    "# Creating Frequency Custer Tag Column\n",
    "a=rfm_table1.groupby('FrequencyCluster')['frequency'].agg(['min','max','mean']).reset_index()\n",
    "f1='<='+str(a.iloc[0,2]) \n",
    "f2=str(a.iloc[1,1])+' to '+str(a.iloc[1,2]) \n",
    "f3='>='+str(a.iloc[2,1])\n",
    "# Create the dictionary \n",
    "F ={0 : f1, 1 : f2, 2 :f3} \n",
    "rfm_table1['FrequencyClusterTag']=rfm_table1['FrequencyCluster'].apply(set_value, args =(F, )) "
   ]
  },
  {
   "cell_type": "code",
   "execution_count": null,
   "metadata": {},
   "outputs": [],
   "source": [
    "# Creating Monetary Custer Tag Column\n",
    "b=rfm_table1.groupby('MonetaryCluster')['monetary'].agg(['min','max','mean']).reset_index()\n",
    "m1='<='+str(int(round(b.iloc[0,2]))) \n",
    "m2=str(int(round(b.iloc[0,2])+1))+' to '+str(int(round(b.iloc[1,2]))) \n",
    "m3='>='+str(int(round(b.iloc[1,2])+1))\n",
    "# Create the dictionary \n",
    "M ={0 : m1, 1 : m2, 2 :m3} \n",
    "rfm_table1['MonetaryClusterTag']=rfm_table1['MonetaryCluster'].apply(set_value, args =(M, )) "
   ]
  },
  {
   "cell_type": "code",
   "execution_count": null,
   "metadata": {},
   "outputs": [],
   "source": [
    "rfm_table1[\"FrequencyClusterTag\"] = rfm_table1[\"FrequencyClusterTag\"].astype(pd.api.types.CategoricalDtype(categories=[f1, f2, f3]))\n",
    "rfm_table1[\"MonetaryClusterTag\"] = rfm_table1[\"MonetaryClusterTag\"].astype(pd.api.types.CategoricalDtype(categories=[m1, m2,m3]))\n",
    "rfm_table1[\"RecencyClusterTag\"] = rfm_table1[\"RecencyClusterTag\"].astype(pd.api.types.CategoricalDtype(categories=[r1, r2,r3]))"
   ]
  },
  {
   "cell_type": "code",
   "execution_count": null,
   "metadata": {},
   "outputs": [],
   "source": [
    "rfm_table1.head()"
   ]
  },
  {
   "cell_type": "code",
   "execution_count": null,
   "metadata": {},
   "outputs": [],
   "source": [
    "from matplotlib.pyplot import figure\n",
    "\n",
    "figure(figsize=(8, 8), dpi=80)\n",
    "\n",
    "rfm_table1[\"RecencyClusterTag\"].value_counts().plot(kind='bar',xlabel='Cluster Range',ylabel='No. of. Customers',title='Recency Cluster Distribution').figure.savefig('recency.jpeg')"
   ]
  },
  {
   "cell_type": "code",
   "execution_count": null,
   "metadata": {},
   "outputs": [],
   "source": [
    "from matplotlib.pyplot import figure\n",
    "\n",
    "figure(figsize=(10, 10), dpi=80)\n",
    "\n",
    "rfm_table1[\"FrequencyClusterTag\"].value_counts().plot(kind='bar',xlabel='Cluster Range',ylabel='No. of. Customers',title='Frequency Cluster Distribution').figure.savefig('Frequency.jpeg')"
   ]
  },
  {
   "cell_type": "code",
   "execution_count": null,
   "metadata": {},
   "outputs": [],
   "source": [
    "from matplotlib.pyplot import figure\n",
    "\n",
    "figure(figsize=(15, 15), dpi=80)\n",
    "plt.rcParams.update({'font.size': 22})\n",
    "rfm_table1[\"MonetaryClusterTag\"].value_counts().plot(kind='bar',xlabel='Cluster Range',ylabel='No. of. Customers',title='Monetary Cluster Distribution').figure.savefig('Monetary.jpeg')"
   ]
  },
  {
   "cell_type": "code",
   "execution_count": null,
   "metadata": {},
   "outputs": [],
   "source": [
    "rfm_table1[\"combinedrfm\"]=rfm_table1[\"RecencyCluster\"].astype(str)+rfm_table1[\"FrequencyCluster\"].astype(str)+rfm_table1[\"MonetaryCluster\"].astype(str)"
   ]
  },
  {
   "cell_type": "code",
   "execution_count": null,
   "metadata": {},
   "outputs": [],
   "source": [
    "def flag_df(df):\n",
    "    if (df['combinedrfm'] in '222'):\n",
    "        return 'Best Customers'\n",
    "    elif re.findall(\".2.\",df['combinedrfm']) or re.findall(\"211\",df['combinedrfm']):\n",
    "        return 'Loyal Customers'\n",
    "    elif re.findall(\"..2\",df['combinedrfm']):\n",
    "        return 'Whales Customers'\n",
    "    elif re.findall(\"00.\",df['combinedrfm']):\n",
    "        return 'Lost Customers'\n",
    "    elif re.findall(\"10.\",df['combinedrfm']) or re.findall(\"01.\",df['combinedrfm']) or (df['combinedrfm'] in '200') or (df['combinedrfm'] in '210'):\n",
    "        return 'Slipping Customers'\n",
    "    elif (df['combinedrfm'] in '11.') or (df['combinedrfm'] in '201'):\n",
    "        return 'Potential Customers'\n",
    "    else : \n",
    "        return 'Regular'"
   ]
  },
  {
   "cell_type": "code",
   "execution_count": null,
   "metadata": {
    "scrolled": true
   },
   "outputs": [],
   "source": [
    "rfm_table1['Flag'] = rfm_table1.apply(flag_df, axis = 1)"
   ]
  },
  {
   "cell_type": "code",
   "execution_count": null,
   "metadata": {},
   "outputs": [],
   "source": [
    "from matplotlib.pyplot import figure\n",
    "\n",
    "figure(figsize=(8, 8), dpi=80)\n",
    "\n",
    "rfm_table1[\"Flag\"].value_counts().plot(kind='pie',autopct='%1.0f%%',title='Distribution of Customer Segments').figure.savefig('Customer Segmenr.jpeg')"
   ]
  },
  {
   "cell_type": "code",
   "execution_count": null,
   "metadata": {
    "scrolled": true
   },
   "outputs": [],
   "source": [
    "with conn.cursor() as cursor:\n",
    "    cursor.write_dataframe(rfm_table1, \"temp.hacksjfinal3\")\n",
    "    conn.commit()"
   ]
  }
 ],
 "metadata": {
  "kernelspec": {
   "display_name": "Python 3",
   "language": "python",
   "name": "python3"
  },
  "language_info": {
   "codemirror_mode": {
    "name": "ipython",
    "version": 3
   },
   "file_extension": ".py",
   "mimetype": "text/x-python",
   "name": "python",
   "nbconvert_exporter": "python",
   "pygments_lexer": "ipython3",
   "version": "3.8.5"
  }
 },
 "nbformat": 4,
 "nbformat_minor": 4
}
